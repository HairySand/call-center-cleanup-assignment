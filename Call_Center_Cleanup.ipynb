{
 "cells": [
  {
   "cell_type": "markdown",
   "id": "331a1c4f",
   "metadata": {},
   "source": [
    "# Call Center Cleanup\n",
    "\n",
    "For this assignment, we will be working with call center data. You can start working on the assignment after the first lesson on Exploratory Data Analysis with pandas. Make sure to read the whole assignment before starting anything! As you code along in the Jupyter notebook, you are asked to make note of the results of your analysis. Do so by clicking on the results box and adding your notes beside each question.\n",
    "\n",
    "## Business Issue and Understanding\n",
    "\n",
    "You are working for a company that has two call centers: the North Call Center and the South Call Center. The company is looking to possibly hire five additional reps to enhance customer experience. Your task is to explore how efficient the current reps are in each branch to determine which branch would benefit from additional assistance.\n",
    "\n",
    "### How the Call Center Works\n",
    "\n",
    "Call center representatives are assigned queues. When calls are assigned to a queue, the call is assigned to the next person in line in the queue. After a call is assigned to a representative, the amount of time between assignment and the call starting is divided into busy minutes and not ready minutes. If the call is incoming and a customer is waiting on the phone for a rep, the time is split into three categories: busy minutes, not ready minutes, and incoming call wait time. Once the rep has the customer on the phone, there might be during call wait time, where the call is put on hold while the rep gets an answer for the customer.\n",
    "\n",
    "### Notes about the Dataset\n",
    "\n",
    "If you haven't worked in a call center before, these notes might help you throughout your analysis.\n",
    "\n",
    "* The call purpose is tagged for each call.\n",
    "* The time of the call is tagged in 1 hour blocks starting at 9:00 AM and ending at 5:00 PM.\n",
    "* Calls are tagged as incoming or outgoing.\n",
    "* Reps are assigned to queues. When the reps are working, they take calls in the order of their queue.\n",
    "* A call that is dropped due to technical error or missed by the center because they have reached maximum capacity is a lost call.\n",
    "* An abandoned call is when the customer hangs up because they have been waiting for too long.\n",
    "* Busy Minutes: the amount of time after a call comes in or needs to go out where the assigned rep is not available because they are busy with other customers.\n",
    "* Not Ready Minutes: the amount of time after a call comes in or needs to go out where the assigned rep is not available because they are not ready (for example, getting water).\n",
    "* Incoming Wait Time - amount of time after assigned rep is available to take the call customer waits for representative to pick up a call. This is tracked in seconds.\n",
    "* During Call Wait Time - amount of time during call that customer has to wait for representative\n",
    "\n",
    "## Getting Started\n",
    "\n",
    "You have two CSVs at your disposal, `NorthCallCenter.csv` and `SouthCallCenter.csv`. Import the appropriate libraries and create two dataframes, one called `north_df` and one called `south_df`."
   ]
  },
  {
   "cell_type": "code",
   "execution_count": 40,
   "id": "f362436b",
   "metadata": {},
   "outputs": [],
   "source": [
    "# Import the appropriate libraries with aliases\n",
    "import pandas as pd\n",
    "import numpy as np\n",
    "\n",
    "  \n",
    "# Create two new dataframes\n",
    "north_df= pd.read_csv(r\"C:\\Users\\LC Harrison Sand\\OneDrive\\Documents\\LaunchCode\\call-center-cleanup-assignment\\NorthCallCenter.csv\")\n",
    "south_df = pd.read_csv(r\"C:\\Users\\LC Harrison Sand\\OneDrive\\Documents\\LaunchCode\\call-center-cleanup-assignment\\SouthCallCenter.csv\")\n",
    "\n",
    "\n"
   ]
  },
  {
   "cell_type": "markdown",
   "id": "b4d3484b",
   "metadata": {},
   "source": [
    "## Task 1: Exploratory Data Analysis\n",
    "\n",
    "Time to do some EDA! In the process of learning more about the two datasets, answer the following questions. Use the code blocks below to begin cleaning your data. At the end of the section, record your answers."
   ]
  },
  {
   "cell_type": "markdown",
   "id": "76898991",
   "metadata": {},
   "source": [
    "#### EDA Question 1A:  How many reps are in the North branch?  "
   ]
  },
  {
   "cell_type": "code",
   "execution_count": 41,
   "id": "ce3eb5e4",
   "metadata": {},
   "outputs": [
    {
     "data": {
      "text/plain": [
       "Index(['Unnamed: 0', 'Branch', 'Call Purpose', 'Time Block',\n",
       "       'Incoming or Outgoing', 'Queue', 'Rep ID', 'Sale', 'Lost Call',\n",
       "       'Abandoned', 'Busy Minutes', 'Not Ready Minutes', 'Incoming Wait Time',\n",
       "       'During Call Wait Time', 'Calls'],\n",
       "      dtype='object')"
      ]
     },
     "metadata": {},
     "output_type": "display_data"
    },
    {
     "data": {
      "text/plain": [
       "Unnamed: 0                 0\n",
       "Branch                     0\n",
       "Call Purpose               0\n",
       "Time Block                 0\n",
       "Incoming or Outgoing       0\n",
       "Queue                      0\n",
       "Rep ID                     0\n",
       "Sale                       0\n",
       "Lost Call                  0\n",
       "Abandoned                  0\n",
       "Busy Minutes               0\n",
       "Not Ready Minutes          0\n",
       "Incoming Wait Time       163\n",
       "During Call Wait Time      0\n",
       "Calls                      0\n",
       "dtype: int64"
      ]
     },
     "metadata": {},
     "output_type": "display_data"
    },
    {
     "data": {
      "text/plain": [
       "Unnamed: 0               245\n",
       "Branch                     1\n",
       "Call Purpose               3\n",
       "Time Block                 9\n",
       "Incoming or Outgoing       2\n",
       "Queue                      2\n",
       "Rep ID                     9\n",
       "Sale                       3\n",
       "Lost Call                  2\n",
       "Abandoned                  2\n",
       "Busy Minutes               5\n",
       "Not Ready Minutes          3\n",
       "Incoming Wait Time         5\n",
       "During Call Wait Time      3\n",
       "Calls                      1\n",
       "dtype: int64"
      ]
     },
     "metadata": {},
     "output_type": "display_data"
    },
    {
     "name": "stdout",
     "output_type": "stream",
     "text": [
      "There are 9 unique reps in the North Branch\n"
     ]
    }
   ],
   "source": [
    "north_df.head(10)\n",
    "display(north_df.columns)\n",
    "display(north_df.isna().sum())\n",
    "display(north_df.nunique())\n",
    "unique_reps = north_df[\"Rep ID\"].nunique()\n",
    "\n",
    "\n",
    "# EDA Question 1A solution below:\n",
    "print(f\"There are {unique_reps} unique reps in the North Branch\")\n",
    "#There are 9 unique reps in the North Branch."
   ]
  },
  {
   "cell_type": "markdown",
   "id": "2a9b34d8",
   "metadata": {},
   "source": [
    "#### EDA Question 1B:  How many reps are in the South branch?  "
   ]
  },
  {
   "cell_type": "code",
   "execution_count": 42,
   "id": "3c715bbf",
   "metadata": {},
   "outputs": [
    {
     "data": {
      "text/plain": [
       "Index(['Unnamed: 0', 'Branch', 'Call Purpose', 'Time Block',\n",
       "       'Incoming or Outgoing', 'Queue', 'Rep ID', 'Sale', 'Lost Call',\n",
       "       'Abandoned', 'Busy Minutes', 'Not Ready Minutes', 'Incoming Wait Time',\n",
       "       'During Call Wait Time', 'Calls'],\n",
       "      dtype='object')"
      ]
     },
     "metadata": {},
     "output_type": "display_data"
    },
    {
     "data": {
      "text/plain": [
       "Unnamed: 0                 0\n",
       "Branch                     0\n",
       "Call Purpose               0\n",
       "Time Block                 0\n",
       "Incoming or Outgoing       0\n",
       "Queue                      0\n",
       "Rep ID                     0\n",
       "Sale                       0\n",
       "Lost Call                  0\n",
       "Abandoned                  0\n",
       "Busy Minutes               0\n",
       "Not Ready Minutes          0\n",
       "Incoming Wait Time       188\n",
       "During Call Wait Time      0\n",
       "Calls                      0\n",
       "dtype: int64"
      ]
     },
     "metadata": {},
     "output_type": "display_data"
    },
    {
     "data": {
      "text/plain": [
       "Unnamed: 0               314\n",
       "Branch                     1\n",
       "Call Purpose               3\n",
       "Time Block                 9\n",
       "Incoming or Outgoing       2\n",
       "Queue                      2\n",
       "Rep ID                    11\n",
       "Sale                       2\n",
       "Lost Call                  2\n",
       "Abandoned                  2\n",
       "Busy Minutes               5\n",
       "Not Ready Minutes          3\n",
       "Incoming Wait Time         5\n",
       "During Call Wait Time      3\n",
       "Calls                      1\n",
       "dtype: int64"
      ]
     },
     "metadata": {},
     "output_type": "display_data"
    },
    {
     "name": "stdout",
     "output_type": "stream",
     "text": [
      "There are 11 unique reps in the North Branch\n"
     ]
    }
   ],
   "source": [
    "south_df.head(10)\n",
    "display(south_df.columns)\n",
    "display(south_df.isna().sum())\n",
    "display(south_df.nunique())\n",
    "unique_reps = south_df[\"Rep ID\"].nunique()\n",
    "\n",
    "# EDA Question 1B solution below:\n",
    "print(f\"There are {unique_reps} unique reps in the North Branch\")\n",
    "#There are 11 unique reps in the North Branch."
   ]
  },
  {
   "cell_type": "markdown",
   "id": "a872f045",
   "metadata": {},
   "source": [
    "#### EDA Question 2A:  What is the average busy minutes, not ready minutes, incoming wait time, and during call wait time for the North branch? "
   ]
  },
  {
   "cell_type": "code",
   "execution_count": 43,
   "id": "3759305f",
   "metadata": {},
   "outputs": [
    {
     "name": "stdout",
     "output_type": "stream",
     "text": [
      "Avg Busy Minutes: 9.99, Avg Not Ready Minutes: 1.91, Avg Incoming Wait Time: 3.05, Avg During Call Wait Time: 2.97\n"
     ]
    },
    {
     "data": {
      "text/plain": [
       "'\\nFor North Branch:\\nAverage Busy Minutes: 9.99 Minutes\\nAverage Not Ready Minutes: 1.91 Minutes\\nAverage Incoming Wait Time: 3.05 Minutes\\nAverage During Call Wait Time: 2.97 Minutes\\n\\n'"
      ]
     },
     "execution_count": 43,
     "metadata": {},
     "output_type": "execute_result"
    }
   ],
   "source": [
    "\n",
    "n_avg_busy_minutes = north_df['Busy Minutes'].mean()\n",
    "n_avg_not_ready = north_df['Not Ready Minutes'].mean()\n",
    "n_avg_inc_wait = north_df['Incoming Wait Time'].mean()\n",
    "n_avg_dur_call = north_df['During Call Wait Time'].mean()\n",
    "\n",
    "print(f\"Avg Busy Minutes: {n_avg_busy_minutes:.2f}, Avg Not Ready Minutes: {n_avg_not_ready:.2f}, Avg Incoming Wait Time: {n_avg_inc_wait:.2f}, Avg During Call Wait Time: {n_avg_dur_call:.2f}\")\n",
    "\n",
    "# EDA Question 2A solution Below:\n",
    "'''\n",
    "For North Branch:\n",
    "Average Busy Minutes: 9.99 Minutes\n",
    "Average Not Ready Minutes: 1.91 Minutes\n",
    "Average Incoming Wait Time: 3.05 Minutes\n",
    "Average During Call Wait Time: 2.97 Minutes\n",
    "\n",
    "'''"
   ]
  },
  {
   "cell_type": "markdown",
   "id": "3851cf3e",
   "metadata": {},
   "source": [
    "#### EDA Question 2B:  What is the average busy minutes, not ready minutes, incoming wait time, and during call wait time for the South branch? "
   ]
  },
  {
   "cell_type": "code",
   "execution_count": 44,
   "id": "a77ec152",
   "metadata": {},
   "outputs": [
    {
     "name": "stdout",
     "output_type": "stream",
     "text": [
      "Avg Busy Minutes: 10.05, Avg Not Ready Minutes: 1.91, Avg Incoming Wait Time: 3.00, Avg During Call Wait Time: 3.08\n"
     ]
    },
    {
     "data": {
      "text/plain": [
       "'\\nFor South Branch:\\nAverage Busy Minutes: 10.05 Minutes\\nAverage Not Ready Minutes: 1.91 Minutes\\nAverage Incoming Wait Time: 3.00 Minutes\\nAverage During Call Wait Time: 3.08 Minutes\\n'"
      ]
     },
     "execution_count": 44,
     "metadata": {},
     "output_type": "execute_result"
    }
   ],
   "source": [
    "\n",
    "s_avg_busy_minutes = south_df['Busy Minutes'].mean()\n",
    "s_avg_not_ready = south_df['Not Ready Minutes'].mean()\n",
    "s_avg_inc_wait = south_df['Incoming Wait Time'].mean()\n",
    "s_avg_dur_call = south_df['During Call Wait Time'].mean()\n",
    "\n",
    "print(f\"Avg Busy Minutes: {s_avg_busy_minutes:.2f}, Avg Not Ready Minutes: {s_avg_not_ready:.2f}, Avg Incoming Wait Time: {s_avg_inc_wait:.2f}, Avg During Call Wait Time: {s_avg_dur_call:.2f}\")\n",
    "\n",
    "# EDA Question 2A solution Below:\n",
    "\"\"\"\n",
    "For South Branch:\n",
    "Average Busy Minutes: 10.05 Minutes\n",
    "Average Not Ready Minutes: 1.91 Minutes\n",
    "Average Incoming Wait Time: 3.00 Minutes\n",
    "Average During Call Wait Time: 3.08 Minutes\n",
    "\"\"\"\n",
    "# EDA Question 2B solution Below:\n"
   ]
  },
  {
   "cell_type": "markdown",
   "id": "75915553",
   "metadata": {},
   "source": [
    "#### EDA Question 3:  What is the number of calls taken for each time block(Both North and South combined)?"
   ]
  },
  {
   "cell_type": "code",
   "execution_count": 45,
   "id": "49566936",
   "metadata": {},
   "outputs": [
    {
     "data": {
      "text/plain": [
       "'\\nTime Block\\n9:00 AM      10\\n10:00 AM     99\\n11:00 AM     56\\n12:00 PM    120\\n1:00 PM      40\\n2:00 PM      65\\n3:00 PM      73\\n4:00 PM      53\\n5:00 PM      43\\n'"
      ]
     },
     "execution_count": 45,
     "metadata": {},
     "output_type": "execute_result"
    }
   ],
   "source": [
    "# EDA Question 3 solution Below:\n",
    "n_and_s = pd.concat([north_df, south_df])\n",
    "\n",
    "time_blocks = n_and_s.groupby(['Time Block']).count()\n",
    "time_blocks['Branch']\n",
    "\"\"\"\n",
    "Time Block\n",
    "9:00 AM      10\n",
    "10:00 AM     99\n",
    "11:00 AM     56\n",
    "12:00 PM    120\n",
    "1:00 PM      40\n",
    "2:00 PM      65\n",
    "3:00 PM      73\n",
    "4:00 PM      53\n",
    "5:00 PM      43\n",
    "\"\"\""
   ]
  },
  {
   "cell_type": "markdown",
   "id": "40b1fd3f",
   "metadata": {},
   "source": [
    "##### Record your answers for the EDA section below:\n",
    "- 1a) Reps in the North Branch = 9\n",
    "- 1b) Reps in the South Branch = 11\n",
    "\n",
    "\n",
    "- 2a) North Branch, (round to the nearest hundredth):\n",
    "> - Busy Minutes =   9.99 Minutes\n",
    "> - Not Ready Minutes = 1.91 Minutes\n",
    "> - Incoming Wait Time = 3.05 Minutes\n",
    "> - During Call Wait Time = 2.97 Minutes\n",
    "- 2b) South Branch, (round to the nearest hundredth):\n",
    "> - Busy Minutes = 10.05 Minutes\n",
    "> - Not Ready Minutes = 1.91 Minutes\n",
    "> - Incoming Wait Time = 3.00 Minutes\n",
    "> - During Call Wait Time = 3.08 Minutes\n",
    "- 3) Total Calls taken for all branches per time block:\n",
    "> - 9:00AM   = 10\n",
    "> - 10:00AM  = 99\n",
    "> - 11:00AM  = 56\n",
    "> - 12:00PM  = 120\n",
    "> - 1:00PM   = 40\n",
    "> - 2:00PM   = 65\n",
    "> - 3:00PM   = 73\n",
    "> - 4:00PM   = 53\n",
    "> - 5:00PM   = 43"
   ]
  },
  {
   "cell_type": "markdown",
   "id": "366bfb19",
   "metadata": {},
   "source": [
    "## Task 2: Cleaning Your Data \n",
    "Now you need to clean up the datasets. When cleaning the datasets, you may find that there isn't dirty data to clean. That is okay! Some questions you need to answer about the data sets.\n",
    "* Add additional code blocks as needed to show how you came to your conclusions. Add comments in your code blocks to help others understand your thinking. "
   ]
  },
  {
   "cell_type": "markdown",
   "id": "c3564d69",
   "metadata": {},
   "source": [
    "#### Cleaning Question 1:  Is there any missing data and if yes explain what you would do with the missing data and why?"
   ]
  },
  {
   "cell_type": "code",
   "execution_count": 46,
   "id": "b77fb574",
   "metadata": {},
   "outputs": [
    {
     "data": {
      "text/plain": [
       "Unnamed: 0                 0\n",
       "Branch                     0\n",
       "Call Purpose               0\n",
       "Time Block                 0\n",
       "Incoming or Outgoing       0\n",
       "Queue                      0\n",
       "Rep ID                     0\n",
       "Sale                       0\n",
       "Lost Call                  0\n",
       "Abandoned                  0\n",
       "Busy Minutes               0\n",
       "Not Ready Minutes          0\n",
       "Incoming Wait Time       163\n",
       "During Call Wait Time      0\n",
       "Calls                      0\n",
       "dtype: int64"
      ]
     },
     "metadata": {},
     "output_type": "display_data"
    },
    {
     "data": {
      "text/plain": [
       "Unnamed: 0                 0\n",
       "Branch                     0\n",
       "Call Purpose               0\n",
       "Time Block                 0\n",
       "Incoming or Outgoing       0\n",
       "Queue                      0\n",
       "Rep ID                     0\n",
       "Sale                       0\n",
       "Lost Call                  0\n",
       "Abandoned                  0\n",
       "Busy Minutes               0\n",
       "Not Ready Minutes          0\n",
       "Incoming Wait Time       188\n",
       "During Call Wait Time      0\n",
       "Calls                      0\n",
       "dtype: int64"
      ]
     },
     "metadata": {},
     "output_type": "display_data"
    },
    {
     "data": {
      "text/plain": [
       "(245,)"
      ]
     },
     "metadata": {},
     "output_type": "display_data"
    },
    {
     "data": {
      "text/plain": [
       "(245,)"
      ]
     },
     "metadata": {},
     "output_type": "display_data"
    },
    {
     "data": {
      "text/plain": [
       "np.float64(1.0)"
      ]
     },
     "metadata": {},
     "output_type": "display_data"
    },
    {
     "data": {
      "text/plain": [
       "np.float64(1.0)"
      ]
     },
     "metadata": {},
     "output_type": "display_data"
    }
   ],
   "source": [
    "# Question 1 solution below\n",
    "display(north_df.isnull().sum())\n",
    "display(south_df.isnull().sum())\n",
    "display(north_df[\"Incoming Wait Time\"].shape)\n",
    "display(north_df[\"Incoming Wait Time\"].shape)\n",
    "display(north_df[\"Incoming Wait Time\"].min())\n",
    "display(north_df[\"Incoming Wait Time\"].min())\n",
    "\n"
   ]
  },
  {
   "cell_type": "markdown",
   "id": "0dc5c568-40db-4889-b82b-64610d8058d2",
   "metadata": {},
   "source": [
    "#### Record your answer below:\n",
    "\n",
    "> Your Answer: There are 163 rows in the North Data Frame that are missing Incoming Wait Time values and 188 row in the South Data Frame that are missing Incoming wait times.\n",
    "\n",
    "From looking at the data it appears that Outgoing calls do not have a wait time, since they are outgoing calls. If I needed to work with both outgoing and incoming calls, I would keep the missing values at a null value, since we do not want to set them as another number and change any statistical data, additionally setting them as strings could impact some analysis.\n",
    "\n"
   ]
  },
  {
   "cell_type": "markdown",
   "id": "dc47f020",
   "metadata": {},
   "source": [
    "#### Cleaning Question 2:  In the North data set, there are two separate \"YES\" values for a sale. Why and how did you rectify the issue?"
   ]
  },
  {
   "cell_type": "code",
   "execution_count": 47,
   "id": "4e0fbad6",
   "metadata": {},
   "outputs": [
    {
     "data": {
      "text/plain": [
       "array(['NO', 'YES'], dtype=object)"
      ]
     },
     "execution_count": 47,
     "metadata": {},
     "output_type": "execute_result"
    }
   ],
   "source": [
    "# Cleaning Question 2 solution below:\n",
    "# sales = north_df[\"Sale\"].unique()\n",
    "# sales\n",
    " #One \"Yes \" has a trailing space, the other does not.\n",
    "\n",
    "north_df[\"Sale\"] = north_df[\"Sale\"].str.strip() #This is a way to stip leading and trailing spaces\n",
    "sales = north_df[\"Sale\"].unique() #I'm using this to test if it worked.\n",
    "sales\n",
    "#Now there are no trailing spaces."
   ]
  },
  {
   "cell_type": "markdown",
   "id": "cf81b612-eb6b-45a6-ac8e-d6f4e08131a8",
   "metadata": {},
   "source": [
    "##### Record your answer by below:\n",
    "> Your Answer: There were three types of unique values in the column: \"NO\", \"YES \", and \"YES\". One of the \"YES\" had a trailing space. Python would have treated these as two different values. I took the series and using a string and strip function I removed leading and trailing spaces from the series and then saved it over top the old sereies, fixing the problem."
   ]
  },
  {
   "cell_type": "markdown",
   "id": "715f375a",
   "metadata": {},
   "source": [
    "#### Cleaning Question 3:  Are there duplicates in the two data sets? If there are, how did you handle them?"
   ]
  },
  {
   "cell_type": "code",
   "execution_count": 48,
   "id": "2323673a",
   "metadata": {},
   "outputs": [
    {
     "data": {
      "text/plain": [
       "np.int64(0)"
      ]
     },
     "metadata": {},
     "output_type": "display_data"
    },
    {
     "data": {
      "text/plain": [
       "np.int64(0)"
      ]
     },
     "metadata": {},
     "output_type": "display_data"
    },
    {
     "data": {
      "text/plain": [
       "np.int64(0)"
      ]
     },
     "metadata": {},
     "output_type": "display_data"
    }
   ],
   "source": [
    "# Cleaning Question 3 solution below:\n",
    "north_duplicate_rows = north_df.duplicated()\n",
    "south_duplicate_rows = south_df.duplicated()\n",
    "n_and_s_duplicated_rows = n_and_s.duplicated()\n",
    "\n",
    "display(north_duplicate_rows.sum()) #I'm using .sum() to count the number of Trues, since True will sum as 1 and False as 0.\n",
    "display(south_duplicate_rows.sum())\n",
    "display(n_and_s_duplicated_rows.sum())\n",
    "\n",
    "#There are no duplicates in each data set or the combined dataset."
   ]
  },
  {
   "cell_type": "markdown",
   "id": "4fbfe2e8-490a-48dc-b0ca-599879076c62",
   "metadata": {},
   "source": [
    "##### Record your answer below:\n",
    "> Your Answer: #There are no duplicates in each data set or the combined dataset. If there were I could use the function DataFrame.drop_duplicates(inplace=True). I would do inplace = True to update the original DataFrame."
   ]
  },
  {
   "cell_type": "markdown",
   "id": "8ffaa865",
   "metadata": {},
   "source": [
    "#### Cleaning Question 4:  Is any of the data in the two data sets unnecessary? If yes, how did you handle it?"
   ]
  },
  {
   "cell_type": "code",
   "execution_count": 49,
   "id": "78b45e70",
   "metadata": {},
   "outputs": [],
   "source": [
    "# Cleaning Question 4 solution below:\n",
    "# north_df.head(10)\n",
    "# north_df.tail(10)\n",
    "# north_df.shape\n",
    "# north_df[\"Calls\"].sum()\n",
    "# south_df.head(10)\n",
    "# south_df.tail(10)\n",
    "# south_df[\"Queue\"].sum()\n",
    "# south_df.shape\n",
    "\n",
    "# north_df.drop(columns=\"Calls\", inplace=True) #Drop the call column\n",
    "# south_df.drop(columns=\"Calls\", inplace=True)\n",
    "\n",
    "#The Queue column seems unecessary for what we are doing, however more information about how queues are handled could help us make that decision. I would drop the column with .drop"
   ]
  },
  {
   "cell_type": "markdown",
   "id": "689e76b9-64d2-45d7-883a-b8c4d822e0c8",
   "metadata": {},
   "source": [
    "##### Record your answer below:\n",
    "> Your Answer: The Queue column seems unecessary for what we are doing, however more information about how queues are handled could help us make that decision. I would drop the column with .drop"
   ]
  },
  {
   "cell_type": "markdown",
   "id": "73342a9a",
   "metadata": {},
   "source": [
    "## Task 3: Data Manipulation\n",
    "Before you begin answering any questions, combine the two datasets together to create a third dataframe called df. You can use this third dataframe to compare the two call centers to company-wide trends.\n",
    "* Add additional code blocks as needed to show how you came to your conclusions. Add comments in your code blocks to help others understand your thinking. Record your answer below."
   ]
  },
  {
   "cell_type": "code",
   "execution_count": 50,
   "id": "e9705c34",
   "metadata": {},
   "outputs": [],
   "source": [
    "# Create dataframe for the entire company named df\n",
    "df= pd.concat([north_df, south_df])\n"
   ]
  },
  {
   "cell_type": "markdown",
   "id": "7e87dfd1",
   "metadata": {},
   "source": [
    "#### Manipulation Question 1:  Group by Rep ID and sum the resulting structure. Sort by calls to determine which rep in each branch has the highest number of calls."
   ]
  },
  {
   "cell_type": "code",
   "execution_count": 51,
   "id": "3953f09a",
   "metadata": {},
   "outputs": [
    {
     "data": {
      "text/html": [
       "<div>\n",
       "<style scoped>\n",
       "    .dataframe tbody tr th:only-of-type {\n",
       "        vertical-align: middle;\n",
       "    }\n",
       "\n",
       "    .dataframe tbody tr th {\n",
       "        vertical-align: top;\n",
       "    }\n",
       "\n",
       "    .dataframe thead th {\n",
       "        text-align: right;\n",
       "    }\n",
       "</style>\n",
       "<table border=\"1\" class=\"dataframe\">\n",
       "  <thead>\n",
       "    <tr style=\"text-align: right;\">\n",
       "      <th></th>\n",
       "      <th>Branch</th>\n",
       "      <th>Calls</th>\n",
       "    </tr>\n",
       "    <tr>\n",
       "      <th>Rep ID</th>\n",
       "      <th></th>\n",
       "      <th></th>\n",
       "    </tr>\n",
       "  </thead>\n",
       "  <tbody>\n",
       "    <tr>\n",
       "      <th>Eric</th>\n",
       "      <td>SouthSouthSouthSouthSouthSouthSouthSouthSouthS...</td>\n",
       "      <td>35</td>\n",
       "    </tr>\n",
       "    <tr>\n",
       "      <th>Randy</th>\n",
       "      <td>SouthSouthSouthSouthSouthSouthSouthSouthSouthS...</td>\n",
       "      <td>33</td>\n",
       "    </tr>\n",
       "    <tr>\n",
       "      <th>Sandy</th>\n",
       "      <td>SouthSouthSouthSouthSouthSouthSouthSouthSouthS...</td>\n",
       "      <td>32</td>\n",
       "    </tr>\n",
       "    <tr>\n",
       "      <th>Helga</th>\n",
       "      <td>SouthSouthSouthSouthSouthSouthSouthSouthSouthS...</td>\n",
       "      <td>31</td>\n",
       "    </tr>\n",
       "    <tr>\n",
       "      <th>George</th>\n",
       "      <td>SouthSouthSouthSouthSouthSouthSouthSouthSouthS...</td>\n",
       "      <td>29</td>\n",
       "    </tr>\n",
       "    <tr>\n",
       "      <th>Kate</th>\n",
       "      <td>SouthSouthSouthSouthSouthSouthSouthSouthSouthS...</td>\n",
       "      <td>29</td>\n",
       "    </tr>\n",
       "    <tr>\n",
       "      <th>Karl</th>\n",
       "      <td>SouthSouthSouthSouthSouthSouthSouthSouthSouthS...</td>\n",
       "      <td>28</td>\n",
       "    </tr>\n",
       "    <tr>\n",
       "      <th>Josh</th>\n",
       "      <td>SouthSouthSouthSouthSouthSouthSouthSouthSouthS...</td>\n",
       "      <td>26</td>\n",
       "    </tr>\n",
       "    <tr>\n",
       "      <th>Susan</th>\n",
       "      <td>SouthSouthSouthSouthSouthSouthSouthSouthSouthS...</td>\n",
       "      <td>26</td>\n",
       "    </tr>\n",
       "    <tr>\n",
       "      <th>Sharon</th>\n",
       "      <td>SouthSouthSouthSouthSouthSouthSouthSouthSouthS...</td>\n",
       "      <td>25</td>\n",
       "    </tr>\n",
       "    <tr>\n",
       "      <th>Alice</th>\n",
       "      <td>SouthSouthSouthSouthSouthSouthSouthSouthSouthS...</td>\n",
       "      <td>20</td>\n",
       "    </tr>\n",
       "    <tr>\n",
       "      <th>Brent</th>\n",
       "      <td>NorthNorthNorthNorthNorthNorthNorthNorthNorthN...</td>\n",
       "      <td>37</td>\n",
       "    </tr>\n",
       "    <tr>\n",
       "      <th>Lilly</th>\n",
       "      <td>NorthNorthNorthNorthNorthNorthNorthNorthNorthN...</td>\n",
       "      <td>30</td>\n",
       "    </tr>\n",
       "    <tr>\n",
       "      <th>Duke</th>\n",
       "      <td>NorthNorthNorthNorthNorthNorthNorthNorthNorthN...</td>\n",
       "      <td>29</td>\n",
       "    </tr>\n",
       "    <tr>\n",
       "      <th>Todd</th>\n",
       "      <td>NorthNorthNorthNorthNorthNorthNorthNorthNorthN...</td>\n",
       "      <td>29</td>\n",
       "    </tr>\n",
       "    <tr>\n",
       "      <th>Joe</th>\n",
       "      <td>NorthNorthNorthNorthNorthNorthNorthNorthNorthN...</td>\n",
       "      <td>26</td>\n",
       "    </tr>\n",
       "    <tr>\n",
       "      <th>Cam</th>\n",
       "      <td>NorthNorthNorthNorthNorthNorthNorthNorthNorthN...</td>\n",
       "      <td>24</td>\n",
       "    </tr>\n",
       "    <tr>\n",
       "      <th>Xander</th>\n",
       "      <td>NorthNorthNorthNorthNorthNorthNorthNorthNorthN...</td>\n",
       "      <td>24</td>\n",
       "    </tr>\n",
       "    <tr>\n",
       "      <th>Amanda</th>\n",
       "      <td>NorthNorthNorthNorthNorthNorthNorthNorthNorthN...</td>\n",
       "      <td>23</td>\n",
       "    </tr>\n",
       "    <tr>\n",
       "      <th>Andy</th>\n",
       "      <td>NorthNorthNorthNorthNorthNorthNorthNorthNorthN...</td>\n",
       "      <td>23</td>\n",
       "    </tr>\n",
       "  </tbody>\n",
       "</table>\n",
       "</div>"
      ],
      "text/plain": [
       "                                                   Branch  Calls\n",
       "Rep ID                                                          \n",
       "Eric    SouthSouthSouthSouthSouthSouthSouthSouthSouthS...     35\n",
       "Randy   SouthSouthSouthSouthSouthSouthSouthSouthSouthS...     33\n",
       "Sandy   SouthSouthSouthSouthSouthSouthSouthSouthSouthS...     32\n",
       "Helga   SouthSouthSouthSouthSouthSouthSouthSouthSouthS...     31\n",
       "George  SouthSouthSouthSouthSouthSouthSouthSouthSouthS...     29\n",
       "Kate    SouthSouthSouthSouthSouthSouthSouthSouthSouthS...     29\n",
       "Karl    SouthSouthSouthSouthSouthSouthSouthSouthSouthS...     28\n",
       "Josh    SouthSouthSouthSouthSouthSouthSouthSouthSouthS...     26\n",
       "Susan   SouthSouthSouthSouthSouthSouthSouthSouthSouthS...     26\n",
       "Sharon  SouthSouthSouthSouthSouthSouthSouthSouthSouthS...     25\n",
       "Alice   SouthSouthSouthSouthSouthSouthSouthSouthSouthS...     20\n",
       "Brent   NorthNorthNorthNorthNorthNorthNorthNorthNorthN...     37\n",
       "Lilly   NorthNorthNorthNorthNorthNorthNorthNorthNorthN...     30\n",
       "Duke    NorthNorthNorthNorthNorthNorthNorthNorthNorthN...     29\n",
       "Todd    NorthNorthNorthNorthNorthNorthNorthNorthNorthN...     29\n",
       "Joe     NorthNorthNorthNorthNorthNorthNorthNorthNorthN...     26\n",
       "Cam     NorthNorthNorthNorthNorthNorthNorthNorthNorthN...     24\n",
       "Xander  NorthNorthNorthNorthNorthNorthNorthNorthNorthN...     24\n",
       "Amanda  NorthNorthNorthNorthNorthNorthNorthNorthNorthN...     23\n",
       "Andy    NorthNorthNorthNorthNorthNorthNorthNorthNorthN...     23"
      ]
     },
     "execution_count": 51,
     "metadata": {},
     "output_type": "execute_result"
    }
   ],
   "source": [
    "# Manipulation Question solution below:\n",
    "reps = df.groupby(\"Rep ID\").sum()\n",
    "\n",
    "sorted_reps = reps[['Branch', 'Calls']].sort_values(['Branch', 'Calls'], ascending=False)\n",
    "sorted_reps"
   ]
  },
  {
   "cell_type": "markdown",
   "id": "7c29838c-1402-4e4b-94c9-050515d8dd18",
   "metadata": {},
   "source": [
    "##### Record your answer below\n",
    "Rep with the hightest number of calls and their total calls:\n",
    "- North Branch = Brent with 37\n",
    "- South Branch = Eric with 35"
   ]
  },
  {
   "cell_type": "markdown",
   "id": "809293b9",
   "metadata": {},
   "source": [
    "#### Manipulation Question 2:  The average call abandonment rate is a KPI when it comes to determining call center efficiency. As you may recall, abandoned calls are calls where the customer hangs up due to long call times. What is the average call abandonment rate for each branch and the whole company? Do any of these fall out of the optimal range of 2-5%?"
   ]
  },
  {
   "cell_type": "code",
   "execution_count": 52,
   "id": "3dff7534",
   "metadata": {},
   "outputs": [
    {
     "name": "stdout",
     "output_type": "stream",
     "text": [
      "The North Branch Call Abandonment rate is  2.86%.\n",
      "This rate is optimal\n",
      "The South Branch Call Abandonment rate is  1.27%.\n",
      "This rate is NOT optimal.\n",
      "The Combined Branch Call Abandonment rate is  1.97%.\n",
      "This rate is NOT optimal.\n"
     ]
    }
   ],
   "source": [
    "# Manipulation Question 2 solution below:\n",
    "centers = [north_df, south_df, df]\n",
    "branches = ['North', 'South', 'Combined'] \n",
    "i=-1 #This helps me with the naming of the branch and will be used to go through the branches list. I set at -1, so 0 would be the first number when +=1.\n",
    "\n",
    "for center in centers: #I decided to use a for loop to both challenge myself and make it so I'm not just writing the same code three times in a row.\n",
    "    total_calls = center['Calls'].sum()\n",
    "    aband_calls = center['Abandoned'].sum()\n",
    "    aban_rate = (aband_calls/total_calls) * 100\n",
    "    i += 1\n",
    "    print(f\"The {branches[i]} Branch Call Abandonment rate is {aban_rate: .2f}%.\") #This tests if the rate is optimal and prints message based on result.\n",
    "    if aban_rate > 2 and aban_rate < 5:\n",
    "        print('This rate is optimal')\n",
    "    else:\n",
    "        print(\"This rate is NOT optimal.\")\n",
    "    \n"
   ]
  },
  {
   "cell_type": "markdown",
   "id": "c284596f-218f-4291-81b6-718ea5671feb",
   "metadata": {},
   "source": [
    "##### Record your answer below:\n",
    "Average Call Abandonment Rates (round to the nearest hundredth):\n",
    "- North Branch = 2.86%\n",
    "- South Branch = 1.27%\n",
    "- Company Wide = 1.97%\n",
    "- Do any of these fall out of the optimal range of 2-5%? Yes, the South Branch and Combined Branches."
   ]
  },
  {
   "cell_type": "markdown",
   "id": "598bb1bf",
   "metadata": {},
   "source": [
    "#### Manipulation Question 3:  Service level is another KPI when it comes to measuring call center efficiency. Service level is the percentage of calls answered within a specific number of seconds. In the case of your employer, their ideal time frame is 2 seconds. What is the percentage of calls answered within 2 seconds for each branch and the entire company?"
   ]
  },
  {
   "cell_type": "code",
   "execution_count": 53,
   "id": "2fc8f669",
   "metadata": {},
   "outputs": [
    {
     "name": "stdout",
     "output_type": "stream",
     "text": [
      "The percentage of call answered in 2 seconds or less from North branch is  40.24% with 33 ideal timed calls.\n",
      "The percentage of call answered in 2 seconds or less from South branch is  38.10% with 48 ideal timed calls.\n",
      "The percentage of call answered in 2 seconds or less from Combined branch is  38.94% with 81 ideal timed calls.\n"
     ]
    }
   ],
   "source": [
    "# Manipulation Question 3 solution below:\n",
    "\n",
    "centers = [north_df, south_df, df]\n",
    "branches = ['North', 'South', 'Combined'] \n",
    "i=-1 #This helps me with the naming of the branch and will be used to go through the branches list. I set at -1, so 0 would be the first number when +=1.\n",
    "\n",
    "for center in centers:\n",
    "    ideal_time = center.loc[center[\"Incoming Wait Time\"] <= 2].shape[0] #I used .shape, since this will give me one value while count would give me multiple in the form of a series. Had to look this up!\n",
    "    non_ideal_time = center.loc[center[\"Incoming Wait Time\"] > 2].shape[0]\n",
    "    ideal_percent = (ideal_time/(ideal_time + non_ideal_time))*100\n",
    "    i+=1\n",
    "    print(f\"The percentage of call answered in 2 seconds or less from {branches[i]} branch is {ideal_percent: .2f}% with {ideal_time} ideal timed calls.\")\n"
   ]
  },
  {
   "cell_type": "markdown",
   "id": "e3a4c9d9-4e11-4e1f-859a-d2c919f7d9ce",
   "metadata": {},
   "source": [
    "##### Record your answer below:\n",
    "Percentage of calls answered within 2 seconds, include # of calls:\n",
    "- North Branch = 40.24% with 33 ideal calls\n",
    "- South Branch = 38.10% with 48 ideal calls\n",
    "- Company Wide = 38.94% with 81 ideal calls"
   ]
  },
  {
   "cell_type": "markdown",
   "id": "7e19e705",
   "metadata": {},
   "source": [
    "#### Manipulation Question 4: For each branch and the entire company, what is the average speed of answer?"
   ]
  },
  {
   "cell_type": "code",
   "execution_count": 54,
   "id": "72a653ed",
   "metadata": {},
   "outputs": [
    {
     "name": "stdout",
     "output_type": "stream",
     "text": [
      "The average speed of answer for North branch is  3.05 seconds.\n",
      "The average speed of answer for South branch is  3.00 seconds.\n",
      "The average speed of answer for Combined branch is  3.02 seconds.\n"
     ]
    }
   ],
   "source": [
    "# Manipulation Question 4 solution below:\n",
    "centers = [north_df, south_df, df]\n",
    "branches = ['North', 'South', 'Combined'] \n",
    "i=-1 #This helps me with the naming of the branch and will be used to go through the branches list. I set at -1, so 0 would be the first number when +=1.\n",
    "\n",
    "for center in centers:\n",
    "    avg_wait_time = center['Incoming Wait Time'].mean()\n",
    "    i += 1\n",
    "    print(f\"The average speed of answer for {branches[i]} branch is {avg_wait_time: .2f} seconds.\")\n",
    "    "
   ]
  },
  {
   "cell_type": "markdown",
   "id": "fb04c65b-442b-48e1-b22c-b2af8b835ffd",
   "metadata": {},
   "source": [
    "##### Record your answer by below:\n",
    "Average speed of answer (rounded to nearest hundredth):\n",
    "- North Branch in seconds = 3.05 seconds\n",
    "- South Branch in seconds = 3.00 seconds\n",
    "- Company Wide in seconds = 3.02 seconds"
   ]
  },
  {
   "cell_type": "markdown",
   "id": "d5f50a40",
   "metadata": {},
   "source": [
    "## Task 4: Visualization\n",
    "\n",
    "Create a visualization for each of the following questions. Some of the code to handle aggregating and storing data may be written for you. For each visualization, you choose the chart style that you feel suits the situation best. Make note of the chart style you chose and why. \n",
    "\n",
    "*NOTE Some questions you may decide to use more than one chart and or chart style."
   ]
  },
  {
   "cell_type": "markdown",
   "id": "66ccf83c",
   "metadata": {},
   "source": [
    "#### Visualization 1:  What is the average abandonment rate per queue?"
   ]
  },
  {
   "cell_type": "code",
   "execution_count": 55,
   "id": "c971d779",
   "metadata": {},
   "outputs": [
    {
     "name": "stderr",
     "output_type": "stream",
     "text": [
      "C:\\Users\\LC Harrison Sand\\AppData\\Local\\Temp\\ipykernel_15460\\2174873962.py:11: FutureWarning: Series.__getitem__ treating keys as positions is deprecated. In a future version, integer keys will always be treated as labels (consistent with DataFrame behavior). To access a value by position, use `ser.iloc[pos]`\n",
      "  abandonment_rates[queues[i]] = (queue_dict[\"Abandoned\"][i] / queue_dict[\"Calls\"][i]) *100 #The code was missing *100 to make it a percent, so I added it.\n"
     ]
    },
    {
     "data": {
      "image/png": "[encoded data removed]",
      "text/plain": [
       "<Figure size 640x480 with 1 Axes>"
      ]
     },
     "metadata": {},
     "output_type": "display_data"
    }
   ],
   "source": [
    "# Create visualization 1 here\n",
    "# Import any additional libraries needed with alias\n",
    "import matplotlib.pyplot as plt\n",
    "import seaborn as sns\n",
    "\n",
    "# The dictionary abandonment_rates has the data you need.\n",
    "abandonment_rates = {}\n",
    "queues = [\"A\", \"B\", \"C\", \"D\"]\n",
    "queue_dict = df.groupby(\"Queue\").agg(\"sum\")\n",
    "for i in range(4):\n",
    "    abandonment_rates[queues[i]] = (queue_dict[\"Abandoned\"][i] / queue_dict[\"Calls\"][i]) *100 #The code was missing *100 to make it a percent, so I added it.\n",
    "\n",
    "\n",
    "#Your code below:\n",
    "xdata = queues\n",
    "ydata = list(abandonment_rates.values())\n",
    "\n",
    "fig, ax = plt.subplots()\n",
    "ax.bar(xdata, ydata, color=\"chartreuse\") #Wanted  to see if chartreuse was in the colors. It is!\n",
    "ax.set(xlabel= \"Queue\", ylabel=\"Abandonment Rate (%)\", title='Abandonment Rate for Each Queue')\n",
    "ax.grid(True, which='major', axis='y', linestyle='--', alpha = .4) #I thought it looked better with grids and wanted to learn how to do them, so I researched and found .grid and read the documentation!\n",
    "plt.show()"
   ]
  },
  {
   "cell_type": "markdown",
   "id": "00a821e7-b296-4950-8889-dacf36ef37fb",
   "metadata": {},
   "source": [
    "##### Record your answer below:\n",
    "\n",
    "> Chart style you chose and why: I chose a vertical bar charts, since we are comparing the different queues and they have total amounts. This allows easy comparison of the different queue abandonment rates."
   ]
  },
  {
   "cell_type": "markdown",
   "id": "4a9fc77f",
   "metadata": {},
   "source": [
    "#### Visualization 2: What is the service level percentage and average speed of answer for each rep in the North Branch?"
   ]
  },
  {
   "cell_type": "code",
   "execution_count": 56,
   "id": "61f65a7f",
   "metadata": {},
   "outputs": [
    {
     "data": {
      "image/png": "[encoded data removed]",
      "text/plain": [
       "<Figure size 640x480 with 1 Axes>"
      ]
     },
     "metadata": {},
     "output_type": "display_data"
    },
    {
     "data": {
      "image/png": "[encoded data removed]",
      "text/plain": [
       "<Figure size 640x480 with 1 Axes>"
      ]
     },
     "metadata": {},
     "output_type": "display_data"
    }
   ],
   "source": [
    "# Create visualization 2 here\n",
    "# north_plt contains the data you need for the average speed of answer of each rep\n",
    "\n",
    "north_plt = north_df.groupby(\"Rep ID\")[\"Incoming Wait Time\"].mean().to_frame().reset_index() \n",
    "\n",
    "# Finding each Rep's Personal Service Level Percentage.  Basically, Calls within 2 secs / total calls\n",
    "\n",
    "# Table 1: Total Incoming calls less than 2 seconds grouped by Rep\n",
    "quick_calls = north_df[north_df[\"Incoming Wait Time\"] <= 2.0]\n",
    "quick_reps = quick_calls[[\"Rep ID\", \"Calls\"]]\n",
    "quick_stats = quick_reps.groupby([\"Rep ID\"]).sum()  # Final Table\n",
    "\n",
    "\n",
    "# Table 2: Total Incoming Calls Only grouped by Rep\n",
    "total_calls_in = north_df[north_df[\"Incoming or Outgoing\"] == \"Incoming\"]\n",
    "rep_calls = total_calls_in[[\"Rep ID\", \"Calls\"]]     \n",
    "total_stats = rep_calls.groupby([\"Rep ID\"]).sum() # Final Table  \n",
    "\n",
    "#  Table 3: Service Level Percentage created via merge\n",
    "service_level = pd.merge(quick_stats, total_stats, on=\"Rep ID\")\n",
    "\n",
    "# Create Percentage Column in Table 3\n",
    "service_level[\"Service Level %\"] = service_level[\"Calls_x\"]/service_level[\"Calls_y\"] * 100\n",
    "\n",
    "\n",
    "#Your Code Here:\n",
    "reps_sl = service_level.index #Gives names of reps for axis labels. I first tried pulling this from the df with unique, but it gave them in the wrong order.\n",
    "reps_as = quick_reps[\"Rep ID\"].unique()\n",
    "service_level_percentage = service_level[\"Service Level %\"]\n",
    "average_speed_of_answer = north_plt[\"Incoming Wait Time\"]\n",
    "\n",
    "xdata= reps_sl\n",
    "ydata = service_level_percentage\n",
    "\n",
    "fig, ax = plt.subplots()\n",
    "ax.bar(xdata, ydata, color='maroon') #Looked up the default colors at https://matplotlib.org/stable/users/explain/colors/colors.html\n",
    "ax.set(xlabel= \"Rep Name\", ylabel=\"Service Level Percentage\", title='Service Level Percentage for Each Rep')\n",
    "ax.grid(True, which='major', axis='y', linestyle='--', alpha = .4) #I thought it looked better with grids and wanted to learn how to do them, so I researched and found .grid and read the documentation!\n",
    "plt.show() #I tried ax.show, but there is no attribute, but I think this works, because ax is linked to plt.\n",
    "\n",
    "x2data = reps_as\n",
    "y2data = average_speed_of_answer\n",
    "\n",
    "fig, ax = plt.subplots()\n",
    "ax.bar(x2data, y2data, color='slategrey') #Looked up the default colors at https://matplotlib.org/stable/users/explain/colors/colors.html\n",
    "ax.set(xlabel= \"Rep Name\", ylabel=\"Average Speed on Answer (seconds)\", title='Average Speed of Answer for Each Rep')\n",
    "ax.grid(True, which='major', axis='y', linestyle='--', alpha = .4) #I thought it looked better with grids and wanted to learn how to do them, so I researched and found .grid and read the documentation!\n",
    "plt.show() #I tried ax.show, but there is no attribute, but I think this works, because ax is linked to plt.\n",
    "\n"
   ]
  },
  {
   "cell_type": "markdown",
   "id": "4d4cad4d-f9fb-4927-8a45-4b5cd17edd3a",
   "metadata": {},
   "source": [
    "##### Record your answer below:\n",
    "\n",
    "> Chart style you chose and why: \n",
    "\n",
    "I chose bar charts for both the Average Answer Speed and service percentage level, since we are comparing the reps under the same category of data and it allows for an easy to see comparison."
   ]
  },
  {
   "cell_type": "markdown",
   "id": "f965e41a",
   "metadata": {},
   "source": [
    "#### Visualization 3: For each type of call purpose, how many calls are outgoing vs. incoming?"
   ]
  },
  {
   "cell_type": "code",
   "execution_count": 57,
   "id": "44096730",
   "metadata": {},
   "outputs": [
    {
     "data": {
      "image/png": "[encoded data removed]",
      "text/plain": [
       "<Figure size 640x480 with 1 Axes>"
      ]
     },
     "metadata": {},
     "output_type": "display_data"
    }
   ],
   "source": [
    "# Create visualization 3 here:\n",
    "# The three dictionaries, complaints, sales_support, and product_support, have the information you need\n",
    "\n",
    "\n",
    "purpose_group = df.groupby(\"Call Purpose\") # Grouping by purpose.\n",
    "call_purpose = [\"Complaint\", \"Product Support\", \"Sales Support\"] #Making list  of name of call purpose - I can use it for graph labels\n",
    "purpose_counts = purpose_group[\"Incoming or Outgoing\"].value_counts() #Counts unique vales in a series.\n",
    "\n",
    "complaints = purpose_counts[\"Complaint\"].to_dict() #Makes a complaint dictionary.\n",
    "sales_support = purpose_counts[\"Sales Support\"].to_dict() #Makes a Sales Support Dictionary.\n",
    "product_support = purpose_counts[\"Product Support\"].to_dict() #Makes a Product Support Dictionary.\n",
    "\n",
    "#Your Code Here:\n",
    "#Below to convert Dict to values and keys\n",
    "#I needed to make lists for each incoming and outgoing. I set as 0 if there is no value to make sure everything has a value for plotting.\n",
    "\n",
    "complaint_income = complaints.get(\"Incoming\", 0)\n",
    "complaint_outgo = complaints.get(\"Outgoing\", 0)\n",
    "sales_income = sales_support.get(\"Incoming\", 0)\n",
    "sales_outgo = sales_support.get(\"Outgoing\", 0)\n",
    "product_income = product_support.get(\"Incoming\", 0)\n",
    "product_outgo = product_support.get(\"Outgoing\", 0)\n",
    "\n",
    "incoming = [complaint_income, sales_income, product_income]\n",
    "outgoing = [complaint_outgo, sales_outgo, product_outgo]\n",
    "\n",
    "x = np.arange(len(call_purpose)) #This will evenly arrange the bars based on the number of items in call_purpose\n",
    "width = 0.2\n",
    "\n",
    "\n",
    "#The below makes the grouped bar chart.\n",
    "plt.bar(x+ (width/2), incoming, width, color='lightseagreen', label='Incoming') #got colors from https://matplotlib.org/stable/gallery/color/named_colors.html\n",
    "plt.bar(x- (width/2), outgoing, width, color='goldenrod', label = 'Outgoing')\n",
    "plt.xticks(x, call_purpose)\n",
    "plt.xlabel(\"Purpose of Calls\")\n",
    "plt.ylabel(\"Number of Calls\")\n",
    "plt.title(\"Incoming and Outgoing for Each Type of Call\")\n",
    "plt.legend()\n",
    "plt.show()\n",
    "\n"
   ]
  },
  {
   "cell_type": "markdown",
   "id": "9198bbe4-44ef-4e21-bd40-6ace8e9f7694",
   "metadata": {},
   "source": [
    "##### Record your answer below:\n",
    "\n",
    "> Chart style you chose and why:  I chose a group chart since we are compaing categories of purpose of calls and there are two types of calls. This allows someone to see the different amounts more easily. If I had more time, I'd probably add values to the columns, but I wasn't sure how and did not have the time to learn today."
   ]
  },
  {
   "cell_type": "markdown",
   "id": "ea7ed568",
   "metadata": {},
   "source": [
    "## Task 5: Summarize Your Work\n",
    "\n",
    "With what you know now about the two call centers and the entire company, answer the following questions. Note that while this is subjective, you should include relevant data to back up your opinion.\n"
   ]
  },
  {
   "cell_type": "markdown",
   "id": "d2fc3d13",
   "metadata": {},
   "source": [
    "#### Summary Question 1:  Using KPIs such as average abandonment rate, service level and average speed of answer, in your opinion, which one of the two branches is operating more efficiently? Why?\n",
    "\n",
    "##### Record your answer below:\n",
    "> Your Answer: \n",
    "\n",
    "To help myself answer:\n",
    "\n",
    "North:\n",
    "abandonment = 2.86% (They want 2-5%)\n",
    "service = 40.24% with 33 ideal timed calls\n",
    "average speed = 3.05s\n",
    "Employee # = 9\n",
    "Total Calls = 245\n",
    "Calls per capita = 27.22\n",
    "\n",
    "South:\n",
    "abandonment = 1.27% (They want 2-5%)\n",
    "service = 38.10% with 48 ideal timed calls\n",
    "average speed = 3.00s\n",
    "Employee # = 11\n",
    "Total Calls = 314\n",
    "Calls per capita = 28.5\n",
    "--------------------------------------\n",
    "\n",
    "Based on the data above the North Branch appears to be operating more efficiently. Their abandonment rate is within the 2-5%, they have a higer service percent, and they are close to the same average speed of the South Branch. The South Branch is not within the ideal abandonement rate, they have a lower service percent, though they do have a slightly quicker average speed, but not by much - however, they have more employees.\n",
    "\n",
    "\n"
   ]
  },
  {
   "cell_type": "markdown",
   "id": "489f28d6",
   "metadata": {},
   "source": [
    "#### Summary Question 2: Based on the number of reps in each branch and how quickly the reps are working, in your opinion, which branch would benefit from the extra help?\n",
    "\n",
    "##### Record your answer below:\n",
    "> Your Answer: \n",
    "I would first look at other factors such as management style, specific employees, and how the different branches do things differently, however if told to hire someone else I would send them to the North Branch. The North Branch is more efficient and one employee will be more efficient there. The South branch already has an adequate number of employees, since there call per capita is not much different than the North branch.\n"
   ]
  },
  {
   "cell_type": "markdown",
   "id": "0b10a8c3",
   "metadata": {},
   "source": [
    "#### Summary Question 3: Now that you have explored the datasets, is there any data or information that you wish you had in this analysis?\n",
    "\n",
    "##### Record your answer below:\n",
    "> Your Answer: \n",
    "I would want to look at data by employee to see if any employees are outliers in either a positive or negative manner and perhaps have the employees that are suceeding help with training new employees and look what things can be changed with the less efficient employees."
   ]
  },
  {
   "cell_type": "markdown",
   "id": "ce16f43d",
   "metadata": {},
   "source": [
    "## Bonus Mission\n",
    "Create a visualization that answers this question: For each call purpose, how many calls (incoming and outgoing) take place in each time block?\n",
    "##### Record your answer below:\n",
    "\n",
    "> Chart style you chose and why:      \n",
    "Grouped Bar Chart, since it is comparing data across different groups."
   ]
  },
  {
   "cell_type": "code",
   "execution_count": 58,
   "id": "71b04f32",
   "metadata": {},
   "outputs": [
    {
     "data": {
      "image/png": "[encoded data removed]",
      "text/plain": [
       "<Figure size 4671.35x500 with 9 Axes>"
      ]
     },
     "metadata": {},
     "output_type": "display_data"
    }
   ],
   "source": [
    "\"\"\"Need this data:\n",
    "Time Blocks\n",
    "call purposes for each time block\n",
    "number of incoming and outgoing for each call purpose for each time block\n",
    "\"\"\"\n",
    "#I tried to do this for a long time in matplotpoly and found out it is much easier in Seaborn, so I did it in Seaborn instead!!!!\n",
    "\n",
    "\n",
    "# Create your Bonus Mission visualization here!\n",
    "call_times = df[[\"Time Block\", \"Call Purpose\", \"Incoming or Outgoing\", \"Calls\"]]\n",
    "call_times_groups = call_times.groupby([\"Time Block\", \"Call Purpose\", \"Incoming or Outgoing\"]).sum(\"Calls\")\n",
    "\n",
    "\n",
    "sns.set_theme(style=\"whitegrid\")\n",
    "\n",
    "graph = sns.catplot( data=call_times_groups, kind=\"bar\", x=\"Call Purpose\", y=\"Calls\", hue=\"Incoming or Outgoing\", col=\"Time Block\")"
   ]
  },
  {
   "cell_type": "code",
   "execution_count": null,
   "id": "48902e2c",
   "metadata": {},
   "outputs": [],
   "source": []
  }
 ],
 "metadata": {
  "kernelspec": {
   "display_name": "Python 3",
   "language": "python",
   "name": "python3"
  },
  "language_info": {
   "codemirror_mode": {
    "name": "ipython",
    "version": 3
   },
   "file_extension": ".py",
   "mimetype": "text/x-python",
   "name": "python",
   "nbconvert_exporter": "python",
   "pygments_lexer": "ipython3",
   "version": "3.12.7"
  }
 },
 "nbformat": 4,
 "nbformat_minor": 5
}
